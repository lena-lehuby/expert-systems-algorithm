{
 "cells": [
  {
   "cell_type": "markdown",
   "id": "43c0c6f9",
   "metadata": {},
   "source": [
    "# 1_animal_game"
   ]
  },
  {
   "cell_type": "code",
   "execution_count": 1,
   "id": "9348d1c9",
   "metadata": {},
   "outputs": [],
   "source": [
    "class AnimalNode:\n",
    "    def __init__(self, question):\n",
    "        self.question = question\n",
    "        self.yes_child = None\n",
    "        self.no_child = None\n",
    "\n",
    "    # Return 'a' or 'an' as appropriate for this animal's name.\n",
    "    def article(self):\n",
    "        if self.question[0] in 'aeiou':\n",
    "            return f'an'\n",
    "        return f'a'\n",
    "\n",
    "    # Return the animal's name with an article.\n",
    "    def full_name(self):\n",
    "        return f'{self.article()} {self.question}'\n",
    "\n",
    "    # Return True if this is a leaf node (which represents an animal).\n",
    "    def is_leaf(self):\n",
    "        return self.yes_child \n",
    "\n",
    "    # Ask this node's question and move to the appropriate child.\n",
    "    # Return True if we keep playing.\n",
    "    def ask_question(self):\n",
    "        # See if this is a leaf node.\n",
    "        if not self.is_leaf():\n",
    "            # This is not a leaf.\n",
    "            # Ask the question.\n",
    "            answer = input(self.question + ' ')\n",
    "            if answer == 'q': return False\n",
    "\n",
    "            # Move to the approprate child.\n",
    "            if answer == 'y':\n",
    "                return self.yes_child.ask_question()\n",
    "            else:\n",
    "                return self.no_child.ask_question()\n",
    "        else:\n",
    "            # It's a leaf. Ask if it the correct animal.\n",
    "            answer = input(f'Is it {self.full_name()}? ')\n",
    "            if answer == 'q': return False\n",
    "            if answer == 'y':\n",
    "                # We guessed it! Gloat a little.\n",
    "                print('I won!😎\\n')\n",
    "            else:\n",
    "                # We guessed wrong. Update the tree.\n",
    "                print('Bummer, I lost.😔\\n')\n",
    "\n",
    "                # Make a new node to hold the new animal.\n",
    "                new_name = input('What was your animal? ')\n",
    "                new_node = AnimalNode(new_name)\n",
    "\n",
    "                prompt = f'What question can I ask to differentiate between ' + \\\n",
    "                    f'{self.full_name()} and {new_node.full_name()}? '\n",
    "                new_question = input(prompt)\n",
    "\n",
    "                new_answer = input(f'What is the answer for {new_node.full_name()}? ')\n",
    "\n",
    "                # Make a new node to hold the current animal.\n",
    "                old_node = AnimalNode(self.question)\n",
    "\n",
    "                # Update the current node.\n",
    "                self.question = new_question\n",
    "                if new_answer == 'y':\n",
    "                    # Make the new animal be the yes_child.\n",
    "                    self.yes_child = new_node\n",
    "                    self.no_child = old_node\n",
    "                else:\n",
    "                    # Make the new animal be the no_child.\n",
    "                    self.no_child = new_node\n",
    "                    self.yes_child = old_node\n",
    "\n",
    "            # We're done gloating or updating. Ask if we should\n",
    "            # play again. Return True if the user wants to quit.\n",
    "            answer = input('Play again? ')\n",
    "            print()\n",
    "            return answer == 'y'"
   ]
  },
  {
   "cell_type": "code",
   "execution_count": 2,
   "id": "f5aa3f0e",
   "metadata": {},
   "outputs": [],
   "source": [
    "def play_game():\n",
    "    # Initialize the tree.\n",
    "    root = AnimalNode('platypus')\n",
    "\n",
    "    # Display instructions.\n",
    "    print('Answer y for Yes, n for No, and q for Quit\\n')\n",
    "\n",
    "    # Repeat until the user quits.\n",
    "    while root.ask_question():\n",
    "        pass"
   ]
  },
  {
   "cell_type": "code",
   "execution_count": 3,
   "id": "99ecfb3e",
   "metadata": {},
   "outputs": [
    {
     "name": "stdout",
     "output_type": "stream",
     "text": [
      "Answer y for Yes, n for No, and q for Quit\n",
      "\n",
      "Is it a platypus? n\n",
      "Bummer, I lost.😔\n",
      "\n",
      "What was your animal? frog\n",
      "What question can I ask to differentiate between a platypus and a frog? Does it hop?\n",
      "What is the answer for a frog? y\n",
      "Play again? y\n",
      "\n",
      "Does it hop? y\n",
      "Is it a frog? y\n",
      "I won!😎\n",
      "\n",
      "Play again? y\n",
      "\n",
      "Does it hop? n\n",
      "Is it a platypus? q\n"
     ]
    }
   ],
   "source": [
    "# Play.\n",
    "play_game()"
   ]
  },
  {
   "cell_type": "code",
   "execution_count": null,
   "id": "3e376334",
   "metadata": {},
   "outputs": [],
   "source": []
  }
 ],
 "metadata": {
  "kernelspec": {
   "display_name": "Python 3 (ipykernel)",
   "language": "python",
   "name": "python3"
  },
  "language_info": {
   "codemirror_mode": {
    "name": "ipython",
    "version": 3
   },
   "file_extension": ".py",
   "mimetype": "text/x-python",
   "name": "python",
   "nbconvert_exporter": "python",
   "pygments_lexer": "ipython3",
   "version": "3.9.7"
  }
 },
 "nbformat": 4,
 "nbformat_minor": 5
}
